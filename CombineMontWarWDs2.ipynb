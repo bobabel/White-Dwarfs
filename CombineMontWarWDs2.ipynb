{
 "cells": [
  {
   "cell_type": "code",
   "execution_count": 1,
   "id": "707f1bc7-d94b-49d2-9ced-152a31fe8049",
   "metadata": {
    "execution": {
     "iopub.execute_input": "2023-06-01T19:19:58.390691Z",
     "iopub.status.busy": "2023-06-01T19:19:58.390481Z",
     "iopub.status.idle": "2023-06-01T19:19:59.153303Z",
     "shell.execute_reply": "2023-06-01T19:19:59.152352Z",
     "shell.execute_reply.started": "2023-06-01T19:19:58.390673Z"
    },
    "tags": []
   },
   "outputs": [
    {
     "name": "stdout",
     "output_type": "stream",
     "text": [
      "Overriding default configuration file with /opt/lsst/software/stack/stack/miniconda3-py38_4.9.2-5.1.0/Linux64/dustmaps_cachedata/g41a3ec361e+62d12e78cb/config/.dustmapsrc\n"
     ]
    }
   ],
   "source": [
    "import numpy as np\n",
    "import pandas as pd\n",
    "from astropy.coordinates import SkyCoord\n",
    "import astropy.units as u\n",
    "import matplotlib.pyplot as plt\n",
    "from matplotlib import colormaps\n",
    "import matplotlib as mpl\n",
    "\n",
    "# Import extinction maps\n",
    "from dustmaps.sfd import SFDQuery\n",
    "\n",
    "filter = ['u', 'g', 'r', 'i', 'z']\n",
    "color = ['ug', 'gr', 'ri', 'iz']\n",
    "color_label = ['u - g', 'g - r', 'r - i', 'i - z']\n"
   ]
  },
  {
   "cell_type": "markdown",
   "id": "a7d49355-d744-4e30-9bd2-14ec1c9f6407",
   "metadata": {},
   "source": [
    "#### <span style='color:blue'> Load  the Montreal  White Dwarf Data Base and make it compatible with the Warwick Catalog</span>"
   ]
  },
  {
   "cell_type": "code",
   "execution_count": 2,
   "id": "ccc3e5a2-567e-4731-a7e6-320978ce6b52",
   "metadata": {
    "execution": {
     "iopub.execute_input": "2023-06-01T19:19:59.157315Z",
     "iopub.status.busy": "2023-06-01T19:19:59.157089Z",
     "iopub.status.idle": "2023-06-01T19:19:59.284715Z",
     "shell.execute_reply": "2023-06-01T19:19:59.283832Z",
     "shell.execute_reply.started": "2023-06-01T19:19:59.157296Z"
    },
    "tags": []
   },
   "outputs": [
    {
     "name": "stdout",
     "output_type": "stream",
     "text": [
      "Original # of rows for Montreal WD Catalog: 34505\n",
      "Original Columns for Montreal WD Catalog\n",
      "Index(['wdid', 'name', 'wdname', 'icrsra', 'icrsdec', 'spectype', 'teff',\n",
      "       'logg', 'parallax', 'Dpc', 'G', 'DG', 'BP', 'RP'],\n",
      "      dtype='object')\n"
     ]
    },
    {
     "data": {
      "text/html": [
       "<div>\n",
       "<style scoped>\n",
       "    .dataframe tbody tr th:only-of-type {\n",
       "        vertical-align: middle;\n",
       "    }\n",
       "\n",
       "    .dataframe tbody tr th {\n",
       "        vertical-align: top;\n",
       "    }\n",
       "\n",
       "    .dataframe thead th {\n",
       "        text-align: right;\n",
       "    }\n",
       "</style>\n",
       "<table border=\"1\" class=\"dataframe\">\n",
       "  <thead>\n",
       "    <tr style=\"text-align: right;\">\n",
       "      <th></th>\n",
       "      <th>wdid</th>\n",
       "      <th>name</th>\n",
       "      <th>wdname</th>\n",
       "      <th>icrsra</th>\n",
       "      <th>icrsdec</th>\n",
       "      <th>spectype</th>\n",
       "      <th>teff</th>\n",
       "      <th>logg</th>\n",
       "      <th>parallax</th>\n",
       "      <th>Dpc</th>\n",
       "      <th>G</th>\n",
       "      <th>DG</th>\n",
       "      <th>BP</th>\n",
       "      <th>RP</th>\n",
       "    </tr>\n",
       "  </thead>\n",
       "  <tbody>\n",
       "    <tr>\n",
       "      <th>0</th>\n",
       "      <td>1FGL J1338.9+1153</td>\n",
       "      <td>Gaia DR2 3738720961894478464</td>\n",
       "      <td>NaN</td>\n",
       "      <td>13 38 59.06</td>\n",
       "      <td>11 53 16.73</td>\n",
       "      <td>DC</td>\n",
       "      <td>6300.0</td>\n",
       "      <td>10.00</td>\n",
       "      <td>-0.178937</td>\n",
       "      <td>NaN</td>\n",
       "      <td>18.526047</td>\n",
       "      <td>NaN</td>\n",
       "      <td>18.772249</td>\n",
       "      <td>17.900059</td>\n",
       "    </tr>\n",
       "    <tr>\n",
       "      <th>1</th>\n",
       "      <td>1RXS J000359.1+433600</td>\n",
       "      <td>Gaia EDR3 384841336150015360</td>\n",
       "      <td>WD 0001+433</td>\n",
       "      <td>00 03 58.84</td>\n",
       "      <td>43 36 01.64</td>\n",
       "      <td>DA</td>\n",
       "      <td>46850.0</td>\n",
       "      <td>9.05</td>\n",
       "      <td>7.869191</td>\n",
       "      <td>127.08</td>\n",
       "      <td>16.712538</td>\n",
       "      <td>0.004078</td>\n",
       "      <td>16.554335</td>\n",
       "      <td>17.038767</td>\n",
       "    </tr>\n",
       "    <tr>\n",
       "      <th>2</th>\n",
       "      <td>1RXS J023947.9+500349</td>\n",
       "      <td>Gaia EDR3 450931644363332352</td>\n",
       "      <td>WD 0236+498</td>\n",
       "      <td>02 39 48.39</td>\n",
       "      <td>50 03 48.27</td>\n",
       "      <td>DA</td>\n",
       "      <td>34150.0</td>\n",
       "      <td>8.67</td>\n",
       "      <td>9.446556</td>\n",
       "      <td>105.86</td>\n",
       "      <td>15.721684</td>\n",
       "      <td>0.003209</td>\n",
       "      <td>15.570930</td>\n",
       "      <td>16.022203</td>\n",
       "    </tr>\n",
       "    <tr>\n",
       "      <th>3</th>\n",
       "      <td>1RXS J041051.2+592522</td>\n",
       "      <td>Gaia EDR3 470502504662843648</td>\n",
       "      <td>WD 0406+592</td>\n",
       "      <td>04 10 51.65</td>\n",
       "      <td>59 25 01.54</td>\n",
       "      <td>DA</td>\n",
       "      <td>30640.0</td>\n",
       "      <td>7.94</td>\n",
       "      <td>10.521743</td>\n",
       "      <td>95.04</td>\n",
       "      <td>14.724578</td>\n",
       "      <td>0.001437</td>\n",
       "      <td>14.583176</td>\n",
       "      <td>14.989646</td>\n",
       "    </tr>\n",
       "    <tr>\n",
       "      <th>4</th>\n",
       "      <td>1RXS J055047.4-240853</td>\n",
       "      <td>Gaia EDR3 2915555883657897344</td>\n",
       "      <td>WD 0548-241</td>\n",
       "      <td>05 50 46.74</td>\n",
       "      <td>-24 08 50.44</td>\n",
       "      <td>DA</td>\n",
       "      <td>54380.0</td>\n",
       "      <td>8.02</td>\n",
       "      <td>3.461348</td>\n",
       "      <td>288.90</td>\n",
       "      <td>16.235077</td>\n",
       "      <td>0.002293</td>\n",
       "      <td>16.076183</td>\n",
       "      <td>16.559160</td>\n",
       "    </tr>\n",
       "  </tbody>\n",
       "</table>\n",
       "</div>"
      ],
      "text/plain": [
       "                    wdid                           name       wdname  \\\n",
       "0      1FGL J1338.9+1153   Gaia DR2 3738720961894478464          NaN   \n",
       "1  1RXS J000359.1+433600   Gaia EDR3 384841336150015360  WD 0001+433   \n",
       "2  1RXS J023947.9+500349   Gaia EDR3 450931644363332352  WD 0236+498   \n",
       "3  1RXS J041051.2+592522   Gaia EDR3 470502504662843648  WD 0406+592   \n",
       "4  1RXS J055047.4-240853  Gaia EDR3 2915555883657897344  WD 0548-241   \n",
       "\n",
       "        icrsra       icrsdec spectype     teff   logg   parallax     Dpc  \\\n",
       "0  13 38 59.06   11 53 16.73       DC   6300.0  10.00  -0.178937     NaN   \n",
       "1  00 03 58.84   43 36 01.64       DA  46850.0   9.05   7.869191  127.08   \n",
       "2  02 39 48.39   50 03 48.27       DA  34150.0   8.67   9.446556  105.86   \n",
       "3  04 10 51.65   59 25 01.54       DA  30640.0   7.94  10.521743   95.04   \n",
       "4  05 50 46.74  -24 08 50.44       DA  54380.0   8.02   3.461348  288.90   \n",
       "\n",
       "           G        DG         BP         RP  \n",
       "0  18.526047       NaN  18.772249  17.900059  \n",
       "1  16.712538  0.004078  16.554335  17.038767  \n",
       "2  15.721684  0.003209  15.570930  16.022203  \n",
       "3  14.724578  0.001437  14.583176  14.989646  \n",
       "4  16.235077  0.002293  16.076183  16.559160  "
      ]
     },
     "execution_count": 2,
     "metadata": {},
     "output_type": "execute_result"
    }
   ],
   "source": [
    "# Load the (slightly filtered) Montreal White Dwarf Database\n",
    "df_MontWD = pd.read_csv('MWDD-export.csv', low_memory=False)\n",
    "\n",
    "# Get rid of some spaces that make it hard to read\n",
    "# df_MontWD['su'].replace('', np.nan, inplace=True)\n",
    "df_MontWD.replace('', np.nan, inplace=True)\n",
    "df_MontWD.replace('      ', np.nan, inplace=True)\n",
    "\n",
    "print('Original # of rows for Montreal WD Catalog: %d' %len(df_MontWD))\n",
    "print('Original Columns for Montreal WD Catalog')\n",
    "print(df_MontWD.columns)\n",
    "df_MontWD.head()\n"
   ]
  },
  {
   "cell_type": "code",
   "execution_count": 3,
   "id": "a797f2bc-3184-4778-9202-4612f177ad2d",
   "metadata": {
    "execution": {
     "iopub.execute_input": "2023-06-01T19:19:59.288314Z",
     "iopub.status.busy": "2023-06-01T19:19:59.288109Z",
     "iopub.status.idle": "2023-06-01T19:19:59.582543Z",
     "shell.execute_reply": "2023-06-01T19:19:59.581450Z",
     "shell.execute_reply.started": "2023-06-01T19:19:59.288297Z"
    },
    "tags": []
   },
   "outputs": [],
   "source": [
    "# Get rid of the \"GaiaEDR3\" or \"GaiaDR2\" titles (etc.?) to turn df_MontWD['name'] \n",
    "# into a df_MontWD['source_id_2'] that's compatible with the Warwick data.\n",
    "# Convert all the Gaia Source ID's to strings for compatibility.\n",
    "\n",
    "GaiaEDR3 = []\n",
    "for i in range(len(df_MontWD)):\n",
    "    if df_MontWD['name'][i].startswith('Gaia'):\n",
    "        GaiaEDR3.append(int(df_MontWD['name'][i][9:]))\n",
    "    else:\n",
    "        GaiaEDR3.append('NaN')    \n",
    "\n",
    "source_id_2 = []\n",
    "for i in range(len(df_MontWD)):\n",
    "    source_id_2.append(str(GaiaEDR3[i]))\n",
    "\n",
    "df_MontWD['source_id_2'] = source_id_2\n",
    "                       "
   ]
  },
  {
   "cell_type": "code",
   "execution_count": 4,
   "id": "8eae9f51-1e20-404e-b79c-780b3583dcb1",
   "metadata": {
    "execution": {
     "iopub.execute_input": "2023-06-01T19:19:59.585991Z",
     "iopub.status.busy": "2023-06-01T19:19:59.585639Z",
     "iopub.status.idle": "2023-06-01T19:19:59.607714Z",
     "shell.execute_reply": "2023-06-01T19:19:59.606950Z",
     "shell.execute_reply.started": "2023-06-01T19:19:59.585971Z"
    },
    "tags": []
   },
   "outputs": [
    {
     "name": "stdout",
     "output_type": "stream",
     "text": [
      "# of rows for Montreal Catalog DA, DB, DC WDs: 31026\n"
     ]
    }
   ],
   "source": [
    "# Limit the database to DA, DB and DC WD's\n",
    "df_MontWD = df_MontWD[(df_MontWD['spectype'] == 'DA') | (df_MontWD['spectype'] == 'DB') | \n",
    "                     (df_MontWD['spectype'] == 'DC') ]\n",
    "print('# of rows for Montreal Catalog DA, DB, DC WDs: %d' %len(df_MontWD))"
   ]
  },
  {
   "cell_type": "code",
   "execution_count": 5,
   "id": "726c7b2d-c672-4206-8590-a2e6600509de",
   "metadata": {
    "execution": {
     "iopub.execute_input": "2023-06-01T19:19:59.610760Z",
     "iopub.status.busy": "2023-06-01T19:19:59.610556Z",
     "iopub.status.idle": "2023-06-01T19:19:59.615571Z",
     "shell.execute_reply": "2023-06-01T19:19:59.614878Z",
     "shell.execute_reply.started": "2023-06-01T19:19:59.610743Z"
    },
    "tags": []
   },
   "outputs": [
    {
     "data": {
      "text/plain": [
       "Index(['wdid', 'name', 'wdname', 'icrsra', 'icrsdec', 'spectype', 'teff',\n",
       "       'logg', 'parallax', 'Dpc', 'G', 'DG', 'BP', 'RP', 'source_id_2'],\n",
       "      dtype='object')"
      ]
     },
     "execution_count": 5,
     "metadata": {},
     "output_type": "execute_result"
    }
   ],
   "source": [
    "df_MontWD.columns"
   ]
  },
  {
   "cell_type": "code",
   "execution_count": 6,
   "id": "86cc4f83-9b15-4643-9b27-b5588ad4e5aa",
   "metadata": {
    "execution": {
     "iopub.execute_input": "2023-06-01T19:19:59.618820Z",
     "iopub.status.busy": "2023-06-01T19:19:59.618562Z",
     "iopub.status.idle": "2023-06-01T19:19:59.631969Z",
     "shell.execute_reply": "2023-06-01T19:19:59.631299Z",
     "shell.execute_reply.started": "2023-06-01T19:19:59.618801Z"
    },
    "tags": []
   },
   "outputs": [],
   "source": [
    "df_MontWD = df_MontWD.drop(columns=['wdid', 'name', 'wdname', 'icrsra', 'icrsdec', 'teff',\n",
    "       'logg', 'parallax', 'Dpc', 'G', 'DG', 'BP', 'RP'], axis=1)"
   ]
  },
  {
   "cell_type": "code",
   "execution_count": 7,
   "id": "23543a37-095d-4134-99fa-ea70bbc398d6",
   "metadata": {
    "execution": {
     "iopub.execute_input": "2023-06-01T19:19:59.633091Z",
     "iopub.status.busy": "2023-06-01T19:19:59.632870Z",
     "iopub.status.idle": "2023-06-01T19:19:59.648023Z",
     "shell.execute_reply": "2023-06-01T19:19:59.647303Z",
     "shell.execute_reply.started": "2023-06-01T19:19:59.633067Z"
    },
    "tags": []
   },
   "outputs": [
    {
     "data": {
      "text/plain": [
       "Index(['index', 'spectype', 'source_id_2'], dtype='object')"
      ]
     },
     "execution_count": 7,
     "metadata": {},
     "output_type": "execute_result"
    }
   ],
   "source": [
    "df_MontWD = df_MontWD.reset_index()\n",
    "df_MontWD.columns\n"
   ]
  },
  {
   "cell_type": "markdown",
   "id": "4c27d999-77d5-41e4-925c-4d910173f9d9",
   "metadata": {},
   "source": [
    "#### <span style='color:blue'> The Montreal WD Database for DA, DB and DC WD's only is ready to merge. Now load the Warwick Catalog."
   ]
  },
  {
   "cell_type": "code",
   "execution_count": 8,
   "id": "15ee83e1-e2fc-4480-91c7-8d7e3c6fc1ff",
   "metadata": {
    "execution": {
     "iopub.execute_input": "2023-06-01T19:19:59.649075Z",
     "iopub.status.busy": "2023-06-01T19:19:59.648865Z",
     "iopub.status.idle": "2023-06-01T19:19:59.765007Z",
     "shell.execute_reply": "2023-06-01T19:19:59.764208Z",
     "shell.execute_reply.started": "2023-06-01T19:19:59.649058Z"
    },
    "tags": []
   },
   "outputs": [
    {
     "name": "stdout",
     "output_type": "stream",
     "text": [
      "Original # of rows for Warwick Catalog Database: 37259\n",
      "\n",
      "Original Columns for Warwick Candidate Database\n",
      "Index(['white_dwarf_name', 'source_id_2', 'SDSS_name', 'SDSS_ra', 'SDSS_dec',\n",
      "       'umag', 'e_umag', 'gmag', 'e_gmag', 'rmag', 'e_rmag', 'imag', 'e_imag',\n",
      "       'zmag', 'e_zmag', 'Plate', 'mjd', 'fiberID', 'S/N', 'spectral_class'],\n",
      "      dtype='object')\n",
      "\n"
     ]
    }
   ],
   "source": [
    "df_WDcat = pd.read_csv('gaia-sdss_white_dwarf_catalogue_v2.1.csv')\n",
    "\n",
    "print('Original # of rows for Warwick Catalog Database: %d' %len(df_WDcat))\n",
    "print()\n",
    "print('Original Columns for Warwick Candidate Database')\n",
    "print(df_WDcat.columns)\n",
    "print()\n"
   ]
  },
  {
   "cell_type": "code",
   "execution_count": 9,
   "id": "b051ac97-7fc4-4230-8b74-944ed625a1df",
   "metadata": {
    "execution": {
     "iopub.execute_input": "2023-06-01T19:19:59.766261Z",
     "iopub.status.busy": "2023-06-01T19:19:59.765946Z",
     "iopub.status.idle": "2023-06-01T19:19:59.774977Z",
     "shell.execute_reply": "2023-06-01T19:19:59.774317Z",
     "shell.execute_reply.started": "2023-06-01T19:19:59.766241Z"
    },
    "tags": []
   },
   "outputs": [],
   "source": [
    "df_WDcat = df_WDcat.rename(columns={'white_dwarf_name':'WDJname'}, errors='raise')\n",
    "df_WDcat = df_WDcat.rename(columns={'spectral_class':'spectype'}, errors='raise')\n"
   ]
  },
  {
   "cell_type": "code",
   "execution_count": 10,
   "id": "75119f81-47cb-47e5-b233-7a116667e39c",
   "metadata": {
    "execution": {
     "iopub.execute_input": "2023-06-01T19:19:59.776296Z",
     "iopub.status.busy": "2023-06-01T19:19:59.775851Z",
     "iopub.status.idle": "2023-06-01T19:19:59.796959Z",
     "shell.execute_reply": "2023-06-01T19:19:59.796219Z",
     "shell.execute_reply.started": "2023-06-01T19:19:59.776272Z"
    },
    "tags": []
   },
   "outputs": [
    {
     "name": "stdout",
     "output_type": "stream",
     "text": [
      "# of rows for Warwick Catalog DA, DB, DC WDs: 25405\n"
     ]
    }
   ],
   "source": [
    "df_WDcat = df_WDcat[(df_WDcat['spectype'] == 'DA') | (df_WDcat['spectype'] == 'DB') | \n",
    "                     (df_WDcat['spectype'] == 'DC') ]\n",
    "print('# of rows for Warwick Catalog DA, DB, DC WDs: %d' %len(df_WDcat))"
   ]
  },
  {
   "cell_type": "code",
   "execution_count": 11,
   "id": "e8f67980-33f3-4900-968e-dad2da71bc30",
   "metadata": {
    "execution": {
     "iopub.execute_input": "2023-06-01T19:19:59.797993Z",
     "iopub.status.busy": "2023-06-01T19:19:59.797782Z",
     "iopub.status.idle": "2023-06-01T19:19:59.810361Z",
     "shell.execute_reply": "2023-06-01T19:19:59.809718Z",
     "shell.execute_reply.started": "2023-06-01T19:19:59.797976Z"
    },
    "tags": []
   },
   "outputs": [],
   "source": [
    "df_WDcat = df_WDcat.drop(columns=['WDJname', 'SDSS_name', 'SDSS_ra', 'SDSS_dec', \n",
    "        'S/N', 'umag', 'e_umag', 'gmag', 'e_gmag', 'rmag', 'e_rmag', 'imag', \n",
    "        'e_imag', 'zmag', 'e_zmag', 'Plate', 'mjd', 'fiberID'], axis=1)"
   ]
  },
  {
   "cell_type": "code",
   "execution_count": 12,
   "id": "0c5f18e6-a50f-4eb3-b19a-39ffc35bfcf2",
   "metadata": {
    "execution": {
     "iopub.execute_input": "2023-06-01T19:19:59.811636Z",
     "iopub.status.busy": "2023-06-01T19:19:59.811174Z",
     "iopub.status.idle": "2023-06-01T19:19:59.824984Z",
     "shell.execute_reply": "2023-06-01T19:19:59.824216Z",
     "shell.execute_reply.started": "2023-06-01T19:19:59.811615Z"
    },
    "tags": []
   },
   "outputs": [
    {
     "data": {
      "text/plain": [
       "Index(['index', 'source_id_2', 'spectype'], dtype='object')"
      ]
     },
     "execution_count": 12,
     "metadata": {},
     "output_type": "execute_result"
    }
   ],
   "source": [
    "df_WDcat = df_WDcat.reset_index()\n",
    "df_WDcat.columns"
   ]
  },
  {
   "cell_type": "code",
   "execution_count": 13,
   "id": "10614ff3-12d3-4a02-969e-c9de96be2fd9",
   "metadata": {
    "execution": {
     "iopub.execute_input": "2023-06-01T19:19:59.826227Z",
     "iopub.status.busy": "2023-06-01T19:19:59.825785Z",
     "iopub.status.idle": "2023-06-01T19:20:00.328037Z",
     "shell.execute_reply": "2023-06-01T19:20:00.327315Z",
     "shell.execute_reply.started": "2023-06-01T19:19:59.826208Z"
    },
    "tags": []
   },
   "outputs": [
    {
     "name": "stdout",
     "output_type": "stream",
     "text": [
      "Number of rows combined is 56431\n",
      "Number of unique ID rows is 56431\n"
     ]
    }
   ],
   "source": [
    "# Collect the Gaia ID's and spectral types for both WD databases into one list\n",
    "# and open up a new DataFrame.\n",
    "source_id_2 = []\n",
    "spectype = []\n",
    "for i in range(len(df_MontWD)):\n",
    "    source_id_2.append(str(df_MontWD['source_id_2'][i]))\n",
    "    spectype.append(df_MontWD['spectype'][i])\n",
    "\n",
    "for i in range(len(df_WDcat)):\n",
    "    source_id_2.append(str(df_WDcat['source_id_2'][i]))\n",
    "    spectype.append(df_WDcat['spectype'][i])\n",
    "\n",
    "# Make a new DataFrame with the combined WD catalogs and an ID column that matches\n",
    "# the name of the Gaia catalog's column:    \n",
    "df = pd.DataFrame()\n",
    "df['GaiaEDR3'] = source_id_2\n",
    "df['spectype'] = spectype\n",
    "\n",
    "print('Number of rows combined is %d' %len(df['GaiaEDR3']))\n",
    "\n",
    "df.drop_duplicates('GaiaEDR3')\n",
    "print('Number of unique ID rows is %d' %len(df['GaiaEDR3']))\n"
   ]
  },
  {
   "cell_type": "code",
   "execution_count": 14,
   "id": "1b9f738a-3ee2-473c-b2f1-044e24f67e5f",
   "metadata": {
    "execution": {
     "iopub.execute_input": "2023-06-01T19:20:00.329103Z",
     "iopub.status.busy": "2023-06-01T19:20:00.328872Z",
     "iopub.status.idle": "2023-06-01T19:20:00.332718Z",
     "shell.execute_reply": "2023-06-01T19:20:00.332089Z",
     "shell.execute_reply.started": "2023-06-01T19:20:00.329084Z"
    },
    "tags": []
   },
   "outputs": [],
   "source": [
    "del df_MontWD, df_WDcat"
   ]
  },
  {
   "cell_type": "markdown",
   "id": "9d250707-79a0-4a8f-8aab-9bead0913240",
   "metadata": {
    "execution": {
     "iopub.execute_input": "2023-06-01T17:58:48.448544Z",
     "iopub.status.busy": "2023-06-01T17:58:48.447605Z",
     "iopub.status.idle": "2023-06-01T17:58:48.500225Z",
     "shell.execute_reply": "2023-06-01T17:58:48.499476Z",
     "shell.execute_reply.started": "2023-06-01T17:58:48.448514Z"
    },
    "tags": []
   },
   "source": [
    "#### <span style='color:blue'> Load the Gaia database (Bailer-Jones?) </span>"
   ]
  },
  {
   "cell_type": "code",
   "execution_count": 15,
   "id": "b47fddb8-8691-4789-8fe5-d12dde2f9c8b",
   "metadata": {
    "execution": {
     "iopub.execute_input": "2023-06-01T19:20:00.333644Z",
     "iopub.status.busy": "2023-06-01T19:20:00.333446Z",
     "iopub.status.idle": "2023-06-01T19:20:00.349138Z",
     "shell.execute_reply": "2023-06-01T19:20:00.348428Z",
     "shell.execute_reply.started": "2023-06-01T19:20:00.333628Z"
    },
    "tags": []
   },
   "outputs": [],
   "source": [
    "# An object to convert a votable file to a Pandas table\n",
    "from astropy.io.votable import parse\n",
    "\n",
    "def votable_to_pandas(votable_file):\n",
    "    votable = parse(votable_file)\n",
    "    table = votable.get_first_table().to_table(use_names_over_ids=True)\n",
    "    return table.to_pandas()"
   ]
  },
  {
   "cell_type": "code",
   "execution_count": 16,
   "id": "3c4cc445-806f-40a4-ad6b-c0fa0faf1676",
   "metadata": {
    "execution": {
     "iopub.execute_input": "2023-06-01T19:20:00.350227Z",
     "iopub.status.busy": "2023-06-01T19:20:00.350016Z",
     "iopub.status.idle": "2023-06-01T19:20:35.921619Z",
     "shell.execute_reply": "2023-06-01T19:20:35.920595Z",
     "shell.execute_reply.started": "2023-06-01T19:20:00.350210Z"
    },
    "tags": []
   },
   "outputs": [
    {
     "name": "stdout",
     "output_type": "stream",
     "text": [
      "No. of Rows for Acquired Gaia Dataset: 322915\n",
      "\n",
      "GAIA TABLE COLUMNS\n"
     ]
    },
    {
     "data": {
      "text/plain": [
       "Index(['WDJname', 'GaiaEDR3', 'RA_ICRS', 'DE_ICRS', 'Plx', 'Pwd', 'PM', 'pmRA',\n",
       "       'pmDE', 'Gmag', 'BPmag', 'RPmag', 'TeffH', 'e_TeffH', 'loggH',\n",
       "       'e_loggH', 'MassH', 'TeffHe', 'e_TeffHe', 'loggHe', 'e_loggHe',\n",
       "       'MassHe', 'Teffmix', 'e_Teffmix', 'loggmix', 'e_loggmix', 'rgeo',\n",
       "       'b_rgeo', 'B_rgeo', 'rpgeo', 'b_rpgeo', 'B_rpgeo', 'SDSS12', 'umag',\n",
       "       'gmag', 'rmag', 'imag', 'zmag', '_RA.icrs', '_DE.icrs', 'recno'],\n",
       "      dtype='object')"
      ]
     },
     "execution_count": 16,
     "metadata": {},
     "output_type": "execute_result"
    }
   ],
   "source": [
    "# Download the Gaia data from VizieR as a votable file and make a Pandas table\n",
    "df_Gaia = votable_to_pandas('vizier_votable.vot')\n",
    "\n",
    "print('No. of Rows for Acquired Gaia Dataset: %6d' %len(df_Gaia))\n",
    "print()\n",
    "print('GAIA TABLE COLUMNS')\n",
    "df_Gaia.columns\n"
   ]
  },
  {
   "cell_type": "code",
   "execution_count": 17,
   "id": "2a4a3317-2fe8-40b6-95d7-12f103459a55",
   "metadata": {
    "execution": {
     "iopub.execute_input": "2023-06-01T19:20:35.923088Z",
     "iopub.status.busy": "2023-06-01T19:20:35.922814Z",
     "iopub.status.idle": "2023-06-01T19:20:35.942948Z",
     "shell.execute_reply": "2023-06-01T19:20:35.942179Z",
     "shell.execute_reply.started": "2023-06-01T19:20:35.923066Z"
    },
    "tags": []
   },
   "outputs": [
    {
     "data": {
      "text/html": [
       "<div>\n",
       "<style scoped>\n",
       "    .dataframe tbody tr th:only-of-type {\n",
       "        vertical-align: middle;\n",
       "    }\n",
       "\n",
       "    .dataframe tbody tr th {\n",
       "        vertical-align: top;\n",
       "    }\n",
       "\n",
       "    .dataframe thead th {\n",
       "        text-align: right;\n",
       "    }\n",
       "</style>\n",
       "<table border=\"1\" class=\"dataframe\">\n",
       "  <thead>\n",
       "    <tr style=\"text-align: right;\">\n",
       "      <th></th>\n",
       "      <th>WDJname</th>\n",
       "      <th>GaiaEDR3</th>\n",
       "      <th>RA_ICRS</th>\n",
       "      <th>DE_ICRS</th>\n",
       "      <th>Plx</th>\n",
       "      <th>Pwd</th>\n",
       "      <th>PM</th>\n",
       "      <th>pmRA</th>\n",
       "      <th>pmDE</th>\n",
       "      <th>Gmag</th>\n",
       "      <th>...</th>\n",
       "      <th>B_rpgeo</th>\n",
       "      <th>SDSS12</th>\n",
       "      <th>umag</th>\n",
       "      <th>gmag</th>\n",
       "      <th>rmag</th>\n",
       "      <th>imag</th>\n",
       "      <th>zmag</th>\n",
       "      <th>_RA.icrs</th>\n",
       "      <th>_DE.icrs</th>\n",
       "      <th>recno</th>\n",
       "    </tr>\n",
       "  </thead>\n",
       "  <tbody>\n",
       "    <tr>\n",
       "      <th>0</th>\n",
       "      <td>WDJ053500.22-363751.68</td>\n",
       "      <td>4809697548510762752</td>\n",
       "      <td>83.750862</td>\n",
       "      <td>-36.631246</td>\n",
       "      <td>3.3630</td>\n",
       "      <td>0.917622</td>\n",
       "      <td>51.294</td>\n",
       "      <td>-8.717</td>\n",
       "      <td>-50.548</td>\n",
       "      <td>20.320801</td>\n",
       "      <td>...</td>\n",
       "      <td>351.731049</td>\n",
       "      <td></td>\n",
       "      <td>NaN</td>\n",
       "      <td>NaN</td>\n",
       "      <td>NaN</td>\n",
       "      <td>NaN</td>\n",
       "      <td>NaN</td>\n",
       "      <td>83.750911</td>\n",
       "      <td>-36.631022</td>\n",
       "      <td>119168</td>\n",
       "    </tr>\n",
       "    <tr>\n",
       "      <th>1</th>\n",
       "      <td>WDJ053500.29-083633.49</td>\n",
       "      <td>3015468539632052608</td>\n",
       "      <td>83.751199</td>\n",
       "      <td>-8.609295</td>\n",
       "      <td>2.8238</td>\n",
       "      <td>0.984751</td>\n",
       "      <td>3.938</td>\n",
       "      <td>-3.619</td>\n",
       "      <td>1.551</td>\n",
       "      <td>19.988899</td>\n",
       "      <td>...</td>\n",
       "      <td>405.107391</td>\n",
       "      <td></td>\n",
       "      <td>NaN</td>\n",
       "      <td>NaN</td>\n",
       "      <td>NaN</td>\n",
       "      <td>NaN</td>\n",
       "      <td>NaN</td>\n",
       "      <td>83.751216</td>\n",
       "      <td>-8.609302</td>\n",
       "      <td>119169</td>\n",
       "    </tr>\n",
       "    <tr>\n",
       "      <th>2</th>\n",
       "      <td>WDJ053500.39-413813.29</td>\n",
       "      <td>4806152723023126016</td>\n",
       "      <td>83.751729</td>\n",
       "      <td>-41.637052</td>\n",
       "      <td>4.7861</td>\n",
       "      <td>0.937591</td>\n",
       "      <td>17.304</td>\n",
       "      <td>16.212</td>\n",
       "      <td>-6.051</td>\n",
       "      <td>20.685101</td>\n",
       "      <td>...</td>\n",
       "      <td>275.614197</td>\n",
       "      <td></td>\n",
       "      <td>NaN</td>\n",
       "      <td>NaN</td>\n",
       "      <td>NaN</td>\n",
       "      <td>NaN</td>\n",
       "      <td>NaN</td>\n",
       "      <td>83.751633</td>\n",
       "      <td>-41.637025</td>\n",
       "      <td>119170</td>\n",
       "    </tr>\n",
       "    <tr>\n",
       "      <th>3</th>\n",
       "      <td>WDJ053500.58+641835.35</td>\n",
       "      <td>287633925457383040</td>\n",
       "      <td>83.752421</td>\n",
       "      <td>64.309714</td>\n",
       "      <td>2.9600</td>\n",
       "      <td>0.999280</td>\n",
       "      <td>23.538</td>\n",
       "      <td>0.072</td>\n",
       "      <td>-23.538</td>\n",
       "      <td>18.966299</td>\n",
       "      <td>...</td>\n",
       "      <td>386.411713</td>\n",
       "      <td></td>\n",
       "      <td>NaN</td>\n",
       "      <td>NaN</td>\n",
       "      <td>NaN</td>\n",
       "      <td>NaN</td>\n",
       "      <td>NaN</td>\n",
       "      <td>83.752420</td>\n",
       "      <td>64.309819</td>\n",
       "      <td>119172</td>\n",
       "    </tr>\n",
       "    <tr>\n",
       "      <th>4</th>\n",
       "      <td>WDJ053500.66+342657.23</td>\n",
       "      <td>3449585550235772672</td>\n",
       "      <td>83.752702</td>\n",
       "      <td>34.449209</td>\n",
       "      <td>8.1097</td>\n",
       "      <td>0.992275</td>\n",
       "      <td>9.851</td>\n",
       "      <td>-8.801</td>\n",
       "      <td>-4.427</td>\n",
       "      <td>19.027300</td>\n",
       "      <td>...</td>\n",
       "      <td>127.991325</td>\n",
       "      <td></td>\n",
       "      <td>NaN</td>\n",
       "      <td>NaN</td>\n",
       "      <td>NaN</td>\n",
       "      <td>NaN</td>\n",
       "      <td>NaN</td>\n",
       "      <td>83.752750</td>\n",
       "      <td>34.449228</td>\n",
       "      <td>119173</td>\n",
       "    </tr>\n",
       "  </tbody>\n",
       "</table>\n",
       "<p>5 rows × 41 columns</p>\n",
       "</div>"
      ],
      "text/plain": [
       "                  WDJname             GaiaEDR3    RA_ICRS    DE_ICRS     Plx  \\\n",
       "0  WDJ053500.22-363751.68  4809697548510762752  83.750862 -36.631246  3.3630   \n",
       "1  WDJ053500.29-083633.49  3015468539632052608  83.751199  -8.609295  2.8238   \n",
       "2  WDJ053500.39-413813.29  4806152723023126016  83.751729 -41.637052  4.7861   \n",
       "3  WDJ053500.58+641835.35   287633925457383040  83.752421  64.309714  2.9600   \n",
       "4  WDJ053500.66+342657.23  3449585550235772672  83.752702  34.449209  8.1097   \n",
       "\n",
       "        Pwd      PM    pmRA    pmDE       Gmag  ...     B_rpgeo  SDSS12  umag  \\\n",
       "0  0.917622  51.294  -8.717 -50.548  20.320801  ...  351.731049           NaN   \n",
       "1  0.984751   3.938  -3.619   1.551  19.988899  ...  405.107391           NaN   \n",
       "2  0.937591  17.304  16.212  -6.051  20.685101  ...  275.614197           NaN   \n",
       "3  0.999280  23.538   0.072 -23.538  18.966299  ...  386.411713           NaN   \n",
       "4  0.992275   9.851  -8.801  -4.427  19.027300  ...  127.991325           NaN   \n",
       "\n",
       "   gmag  rmag  imag  zmag   _RA.icrs   _DE.icrs   recno  \n",
       "0   NaN   NaN   NaN   NaN  83.750911 -36.631022  119168  \n",
       "1   NaN   NaN   NaN   NaN  83.751216  -8.609302  119169  \n",
       "2   NaN   NaN   NaN   NaN  83.751633 -41.637025  119170  \n",
       "3   NaN   NaN   NaN   NaN  83.752420  64.309819  119172  \n",
       "4   NaN   NaN   NaN   NaN  83.752750  34.449228  119173  \n",
       "\n",
       "[5 rows x 41 columns]"
      ]
     },
     "execution_count": 17,
     "metadata": {},
     "output_type": "execute_result"
    }
   ],
   "source": [
    "df_Gaia.head()"
   ]
  },
  {
   "cell_type": "code",
   "execution_count": 18,
   "id": "24a99551-3cd0-4b5b-be97-b0a2cee762c0",
   "metadata": {
    "execution": {
     "iopub.execute_input": "2023-06-01T19:20:35.944193Z",
     "iopub.status.busy": "2023-06-01T19:20:35.943966Z",
     "iopub.status.idle": "2023-06-01T19:20:35.958991Z",
     "shell.execute_reply": "2023-06-01T19:20:35.958285Z",
     "shell.execute_reply.started": "2023-06-01T19:20:35.944175Z"
    },
    "tags": []
   },
   "outputs": [
    {
     "data": {
      "text/plain": [
       "Index(['GaiaEDR3', 'spectype'], dtype='object')"
      ]
     },
     "execution_count": 18,
     "metadata": {},
     "output_type": "execute_result"
    }
   ],
   "source": [
    "df.columns"
   ]
  },
  {
   "cell_type": "code",
   "execution_count": 19,
   "id": "eb9fb399-cc5d-426d-bccc-9ac0fc9b1aa6",
   "metadata": {
    "execution": {
     "iopub.execute_input": "2023-06-01T19:20:35.964076Z",
     "iopub.status.busy": "2023-06-01T19:20:35.963847Z",
     "iopub.status.idle": "2023-06-01T19:20:37.584617Z",
     "shell.execute_reply": "2023-06-01T19:20:37.583524Z",
     "shell.execute_reply.started": "2023-06-01T19:20:35.964058Z"
    },
    "tags": []
   },
   "outputs": [],
   "source": [
    "# Convert all GAIA ID's to strings\n",
    "GaiaEDR3 = []\n",
    "for i in range(len(df_Gaia)):\n",
    "    GaiaEDR3.append(str(df_Gaia['GaiaEDR3'][i]))\n",
    "\n",
    "df_Gaia['GaiaEDR3'] = GaiaEDR3\n",
    "df_Gaia = df_Gaia.reset_index()"
   ]
  },
  {
   "cell_type": "code",
   "execution_count": 20,
   "id": "cc221df8-20f3-4f3d-a5d3-bf2e006c85bd",
   "metadata": {
    "execution": {
     "iopub.execute_input": "2023-06-01T19:20:37.585972Z",
     "iopub.status.busy": "2023-06-01T19:20:37.585694Z",
     "iopub.status.idle": "2023-06-01T19:20:37.755862Z",
     "shell.execute_reply": "2023-06-01T19:20:37.754842Z",
     "shell.execute_reply.started": "2023-06-01T19:20:37.585950Z"
    },
    "tags": []
   },
   "outputs": [],
   "source": [
    "df_merge = pd.merge(df_Gaia, df, on='GaiaEDR3')"
   ]
  },
  {
   "cell_type": "code",
   "execution_count": 21,
   "id": "da664cdc-5397-4dde-b5b3-795da987dfad",
   "metadata": {
    "execution": {
     "iopub.execute_input": "2023-06-01T19:20:37.757333Z",
     "iopub.status.busy": "2023-06-01T19:20:37.757063Z",
     "iopub.status.idle": "2023-06-01T19:20:37.761844Z",
     "shell.execute_reply": "2023-06-01T19:20:37.761099Z",
     "shell.execute_reply.started": "2023-06-01T19:20:37.757311Z"
    },
    "tags": []
   },
   "outputs": [],
   "source": [
    "# define a function to calculate galactic coordinates\n",
    "def get_galactic_coord(row):\n",
    "    c = SkyCoord(ra=row['RA_ICRS']*u.degree, dec=row['DE_ICRS']*u.degree, frame='icrs')\n",
    "    row['l'] = c.galactic.l.degree\n",
    "    row['b'] = c.galactic.b.degree\n",
    "    return row\n",
    "\n"
   ]
  },
  {
   "cell_type": "code",
   "execution_count": 22,
   "id": "43f15238-7028-488b-acc9-a24cb35b7a35",
   "metadata": {
    "execution": {
     "iopub.execute_input": "2023-06-01T19:20:37.763087Z",
     "iopub.status.busy": "2023-06-01T19:20:37.762850Z",
     "iopub.status.idle": "2023-06-01T19:20:37.780537Z",
     "shell.execute_reply": "2023-06-01T19:20:37.779773Z",
     "shell.execute_reply.started": "2023-06-01T19:20:37.763068Z"
    },
    "tags": []
   },
   "outputs": [
    {
     "data": {
      "text/plain": [
       "Index(['index', 'WDJname', 'GaiaEDR3', 'RA_ICRS', 'DE_ICRS', 'Plx', 'Pwd',\n",
       "       'PM', 'pmRA', 'pmDE', 'Gmag', 'BPmag', 'RPmag', 'TeffH', 'e_TeffH',\n",
       "       'loggH', 'e_loggH', 'MassH', 'TeffHe', 'e_TeffHe', 'loggHe', 'e_loggHe',\n",
       "       'MassHe', 'Teffmix', 'e_Teffmix', 'loggmix', 'e_loggmix', 'rgeo',\n",
       "       'b_rgeo', 'B_rgeo', 'rpgeo', 'b_rpgeo', 'B_rpgeo', 'SDSS12', 'umag',\n",
       "       'gmag', 'rmag', 'imag', 'zmag', '_RA.icrs', '_DE.icrs', 'recno',\n",
       "       'spectype'],\n",
       "      dtype='object')"
      ]
     },
     "execution_count": 22,
     "metadata": {},
     "output_type": "execute_result"
    }
   ],
   "source": [
    "df_merge.columns"
   ]
  },
  {
   "cell_type": "code",
   "execution_count": 23,
   "id": "2fde0526-627d-4a8c-994d-506cedabd90d",
   "metadata": {
    "execution": {
     "iopub.execute_input": "2023-06-01T19:20:37.781677Z",
     "iopub.status.busy": "2023-06-01T19:20:37.781471Z",
     "iopub.status.idle": "2023-06-01T19:20:37.802835Z",
     "shell.execute_reply": "2023-06-01T19:20:37.801962Z",
     "shell.execute_reply.started": "2023-06-01T19:20:37.781660Z"
    },
    "tags": []
   },
   "outputs": [
    {
     "name": "stdout",
     "output_type": "stream",
     "text": [
      "['DA' 'DC' 'DB']\n",
      "\n",
      "WD Type    #\n",
      "DA    38969\n",
      "DC     4699\n",
      "DB     3249\n",
      "Name: spectype, dtype: int64\n"
     ]
    }
   ],
   "source": [
    "print(df_merge.spectype.unique())\n",
    "print()\n",
    "print('WD Type    #')\n",
    "print(df_merge.spectype.value_counts())"
   ]
  },
  {
   "cell_type": "code",
   "execution_count": 24,
   "id": "f477cd5d-d777-4a39-8189-8ae624666cf4",
   "metadata": {
    "execution": {
     "iopub.execute_input": "2023-06-01T19:20:37.804164Z",
     "iopub.status.busy": "2023-06-01T19:20:37.803952Z",
     "iopub.status.idle": "2023-06-01T19:20:37.815987Z",
     "shell.execute_reply": "2023-06-01T19:20:37.815246Z",
     "shell.execute_reply.started": "2023-06-01T19:20:37.804146Z"
    },
    "tags": []
   },
   "outputs": [
    {
     "data": {
      "text/plain": [
       "46917"
      ]
     },
     "execution_count": 24,
     "metadata": {},
     "output_type": "execute_result"
    }
   ],
   "source": [
    "len(df_merge)"
   ]
  },
  {
   "cell_type": "code",
   "execution_count": 25,
   "id": "bae9df99-9bb3-4a27-9774-6f475452f854",
   "metadata": {
    "execution": {
     "iopub.execute_input": "2023-06-01T19:20:37.817380Z",
     "iopub.status.busy": "2023-06-01T19:20:37.817174Z",
     "iopub.status.idle": "2023-06-01T19:21:25.313126Z",
     "shell.execute_reply": "2023-06-01T19:21:25.311889Z",
     "shell.execute_reply.started": "2023-06-01T19:20:37.817363Z"
    },
    "tags": []
   },
   "outputs": [
    {
     "name": "stdout",
     "output_type": "stream",
     "text": [
      "46917\n",
      "24515\n",
      "8721\n",
      "8547\n",
      "8526\n",
      "7077\n"
     ]
    }
   ],
   "source": [
    "print(len(df_merge))\n",
    "df_merge = df_merge.drop_duplicates('GaiaEDR3')\n",
    "print(len(df_merge))\n",
    "\n",
    "df_merge = df_merge[ ( df_merge['umag'] > 5.) & (df_merge['umag'] < 22.)\n",
    "                 & (df_merge['gmag'] > 5.) & (df_merge['gmag'] < 22.)\n",
    "                 & (df_merge['rmag'] > 15.) & (df_merge['rmag'] < 19.)\n",
    "                 & (df_merge['imag'] > 5.) & (df_merge['imag'] < 22.)\n",
    "                 & (df_merge['zmag'] > 5.) & (df_merge['zmag'] < 22.)]\n",
    "\n",
    "print(len(df_merge))\n",
    "\n",
    "# apply the galactic coordinate calculation to each row using the apply method\n",
    "# and limit WD's to b > 15 degrees.\n",
    "df_merge = df_merge.apply(get_galactic_coord, axis=1)\n",
    "df_merge = df_merge[(np.abs(df_merge['b']) > 15.)]\n",
    "print(len(df_merge))\n",
    "df_merge = df_merge[df_merge['Pwd'] >= 0.9]\n",
    "print(len(df_merge))\n",
    "df_merge = df_merge.drop(columns=['WDJname', '_RA.icrs', '_DE.icrs'], axis=1)\n",
    "df_merge = df_merge.dropna()\n",
    "print(len(df_merge))\n",
    "df_merge = df_merge.reset_index()"
   ]
  },
  {
   "cell_type": "code",
   "execution_count": 26,
   "id": "01feaf76-ff9b-477a-8507-c92e01a14eee",
   "metadata": {
    "execution": {
     "iopub.execute_input": "2023-06-01T19:21:25.314646Z",
     "iopub.status.busy": "2023-06-01T19:21:25.314359Z",
     "iopub.status.idle": "2023-06-01T19:21:25.321068Z",
     "shell.execute_reply": "2023-06-01T19:21:25.320011Z",
     "shell.execute_reply.started": "2023-06-01T19:21:25.314623Z"
    },
    "tags": []
   },
   "outputs": [
    {
     "data": {
      "text/plain": [
       "Index(['level_0', 'index', 'GaiaEDR3', 'RA_ICRS', 'DE_ICRS', 'Plx', 'Pwd',\n",
       "       'PM', 'pmRA', 'pmDE', 'Gmag', 'BPmag', 'RPmag', 'TeffH', 'e_TeffH',\n",
       "       'loggH', 'e_loggH', 'MassH', 'TeffHe', 'e_TeffHe', 'loggHe', 'e_loggHe',\n",
       "       'MassHe', 'Teffmix', 'e_Teffmix', 'loggmix', 'e_loggmix', 'rgeo',\n",
       "       'b_rgeo', 'B_rgeo', 'rpgeo', 'b_rpgeo', 'B_rpgeo', 'SDSS12', 'umag',\n",
       "       'gmag', 'rmag', 'imag', 'zmag', 'recno', 'spectype', 'l', 'b'],\n",
       "      dtype='object')"
      ]
     },
     "execution_count": 26,
     "metadata": {},
     "output_type": "execute_result"
    }
   ],
   "source": [
    "df_merge.columns"
   ]
  },
  {
   "cell_type": "code",
   "execution_count": 27,
   "id": "842267ac-f3fc-4cdf-a746-43b54fca9101",
   "metadata": {
    "execution": {
     "iopub.execute_input": "2023-06-01T19:21:25.322290Z",
     "iopub.status.busy": "2023-06-01T19:21:25.322074Z",
     "iopub.status.idle": "2023-06-01T19:21:25.339303Z",
     "shell.execute_reply": "2023-06-01T19:21:25.338229Z",
     "shell.execute_reply.started": "2023-06-01T19:21:25.322273Z"
    },
    "tags": []
   },
   "outputs": [
    {
     "data": {
      "text/plain": [
       "7077"
      ]
     },
     "execution_count": 27,
     "metadata": {},
     "output_type": "execute_result"
    }
   ],
   "source": [
    "len(df_merge)"
   ]
  },
  {
   "cell_type": "code",
   "execution_count": 28,
   "id": "c2984624-d7fe-44d5-9c37-bac3620f7406",
   "metadata": {
    "execution": {
     "iopub.execute_input": "2023-06-01T19:21:25.340841Z",
     "iopub.status.busy": "2023-06-01T19:21:25.340614Z",
     "iopub.status.idle": "2023-06-01T19:21:25.362398Z",
     "shell.execute_reply": "2023-06-01T19:21:25.361417Z",
     "shell.execute_reply.started": "2023-06-01T19:21:25.340823Z"
    },
    "tags": []
   },
   "outputs": [],
   "source": [
    "df_DA = df_merge[df_merge['spectype'] == 'DA']\n",
    "df_DB = df_merge[df_merge['spectype'] == 'DB']\n",
    "df_DC = df_merge[df_merge['spectype'] == 'DC']"
   ]
  },
  {
   "cell_type": "code",
   "execution_count": 29,
   "id": "d6f48dcd-148d-43be-b8b9-1ed0dfb33ad5",
   "metadata": {
    "execution": {
     "iopub.execute_input": "2023-06-01T19:21:25.363634Z",
     "iopub.status.busy": "2023-06-01T19:21:25.363334Z",
     "iopub.status.idle": "2023-06-01T19:21:25.374763Z",
     "shell.execute_reply": "2023-06-01T19:21:25.373767Z",
     "shell.execute_reply.started": "2023-06-01T19:21:25.363604Z"
    },
    "tags": []
   },
   "outputs": [
    {
     "data": {
      "text/plain": [
       "(5870, 702, 505)"
      ]
     },
     "execution_count": 29,
     "metadata": {},
     "output_type": "execute_result"
    }
   ],
   "source": [
    "len(df_DA), len(df_DB), len(df_DC)"
   ]
  },
  {
   "cell_type": "code",
   "execution_count": 30,
   "id": "a59e36e1-cf05-4640-8753-a64e9c3a57db",
   "metadata": {
    "execution": {
     "iopub.execute_input": "2023-06-01T19:21:25.375828Z",
     "iopub.status.busy": "2023-06-01T19:21:25.375610Z",
     "iopub.status.idle": "2023-06-01T19:21:25.620173Z",
     "shell.execute_reply": "2023-06-01T19:21:25.619339Z",
     "shell.execute_reply.started": "2023-06-01T19:21:25.375810Z"
    },
    "tags": []
   },
   "outputs": [
    {
     "data": {
      "text/plain": [
       "(array([2.149e+03, 2.317e+03, 1.070e+03, 2.340e+02, 5.400e+01, 2.300e+01,\n",
       "        1.400e+01, 5.000e+00, 1.000e+00, 3.000e+00]),\n",
       " array([  18.1360302 ,  155.87136518,  293.60670016,  431.34203514,\n",
       "         569.07737012,  706.8127051 ,  844.54804008,  982.28337506,\n",
       "        1120.01871004, 1257.75404502, 1395.48938   ]),\n",
       " <BarContainer object of 10 artists>)"
      ]
     },
     "execution_count": 30,
     "metadata": {},
     "output_type": "execute_result"
    },
    {
     "data": {
      "image/png": "[encoded data removed]",
      "text/plain": [
       "<Figure size 640x480 with 1 Axes>"
      ]
     },
     "metadata": {},
     "output_type": "display_data"
    }
   ],
   "source": [
    "plt.scatter(df_DA['rpgeo'], df_DA['umag'])\n",
    "plt.hist(df_DA['rpgeo'])"
   ]
  },
  {
   "cell_type": "code",
   "execution_count": 32,
   "id": "7936797b-59fe-471c-a16b-51de050267a8",
   "metadata": {
    "execution": {
     "iopub.execute_input": "2023-06-01T19:49:03.386542Z",
     "iopub.status.busy": "2023-06-01T19:49:03.385694Z",
     "iopub.status.idle": "2023-06-01T19:49:03.674467Z",
     "shell.execute_reply": "2023-06-01T19:49:03.673664Z",
     "shell.execute_reply.started": "2023-06-01T19:49:03.386515Z"
    },
    "tags": []
   },
   "outputs": [],
   "source": [
    "df_merge.to_csv('MontWarWDs.csv')"
   ]
  },
  {
   "cell_type": "code",
   "execution_count": null,
   "id": "7f48339b-1e6b-4696-bf3b-0c386574225f",
   "metadata": {},
   "outputs": [],
   "source": []
  }
 ],
 "metadata": {
  "kernelspec": {
   "display_name": "LSST",
   "language": "python",
   "name": "lsst"
  },
  "language_info": {
   "codemirror_mode": {
    "name": "ipython",
    "version": 3
   },
   "file_extension": ".py",
   "mimetype": "text/x-python",
   "name": "python",
   "nbconvert_exporter": "python",
   "pygments_lexer": "ipython3",
   "version": "3.10.10"
  }
 },
 "nbformat": 4,
 "nbformat_minor": 5
}
