{
 "cells": [
  {
   "cell_type": "markdown",
   "id": "ddd2a8a2-7563-4f05-8f2d-af59322e097a",
   "metadata": {},
   "source": [
    "<img align=\"left\" src = https://dirac.astro.washington.edu/wp-content/uploads/2022/03/DIRAC_logo-purple-text_transparent-bckg_ALPHA-1-1.png\n",
    " width=190 style=\"padding: 10px\" alt=\"DiRAC Logo\">\n",
    "<br><b>Create a Table of White Dwarfs (\"acquire_WDs.ipynb\")</b> <br>\n",
    "Contact author: Bob Abel <br>\n",
    "Last verified to run: 2023-11-07 <br>\n",
    "LSST Science Piplines version: Weekly 2023_37 <br>\n",
    "Container size: medium <br>\n",
    "Targeted learning level: beginner? <br>\n",
    "<figcaption align = \"left\"><b>&ensp;&ensp;&ensp;&ensp;&ensp;&ensp;&ensp;&ensp;DiRAC Institute</b></figcaption>\n"
   ]
  },
  {
   "cell_type": "markdown",
   "id": "3359831f-4853-4092-9604-cbaae4dd2dd9",
   "metadata": {},
   "source": [
    "Objective:\n",
    "Acquire white dwarfs from two different data bases and merge with Gaia data<br>Description:\n",
    "Color-magnitude models for DA, DB and DC white dwarfs are prepared using two publicly available white dwarf catalogs and Gaia and SDSS data<br>LSST Data Products:\n",
    "Dustmaps.<br>\n",
    "Credits:\n",
    "Tina Adair, Jennifer Soebeck, Douglas Tucker, Željko Ivezić, Brian Yanny, Allyn Smith, Allan Jackson, literally every single contributing author to the Rubin Stack Club, DP0 Tutorial, and Delegate Contribution Jupyter Notebooks, and Jake Vanderplas."
   ]
  },
  {
   "cell_type": "markdown",
   "id": "814434a3-258a-49aa-aa4d-c7a2b40f3121",
   "metadata": {},
   "source": [
    "### <span style='color:blue'> TABLE OF CONTENTS </span>\n",
    "#### <span style='color:blue'>     I. Import Modules </span>\n",
    "#### <span style='color:blue'>     II. Load and Prep the Montreal White Dwarf Database </span>\n",
    "#### <span style='color:blue'>     III. Load and Prep the Warwick (Fusillo et al. 2021) Database </span>\n",
    "#### <span style='color:blue'>     IV. Merge the Two Databases' Spectral Types, Based on Their ID's </span>\n",
    "#### <span style='color:blue'>     V. Load and Prep the Gaia DR3 (Bailer-Jones et al 2022) Database and Merge with the Spectral Types </span>\n",
    "#### <span style='color:blue'>     VI. Filter Final Table by Magnitude, Add Galactic Coordinates  </span>\n",
    "#### <span style='color:blue'>     VII. Save Final Table to 'MontWarWDs.csv' </span>\n",
    "    "
   ]
  },
  {
   "cell_type": "markdown",
   "id": "0e9748a8-24b9-4f76-a13b-259a5d2025dc",
   "metadata": {},
   "source": [
    "### <span style='color:blue'> I. Import Modules"
   ]
  },
  {
   "cell_type": "code",
   "execution_count": 1,
   "id": "707f1bc7-d94b-49d2-9ced-152a31fe8049",
   "metadata": {
    "execution": {
     "iopub.execute_input": "2023-11-10T19:04:02.109752Z",
     "iopub.status.busy": "2023-11-10T19:04:02.109383Z",
     "iopub.status.idle": "2023-11-10T19:04:03.123544Z",
     "shell.execute_reply": "2023-11-10T19:04:03.122823Z",
     "shell.execute_reply.started": "2023-11-10T19:04:02.109733Z"
    },
    "tags": []
   },
   "outputs": [
    {
     "name": "stdout",
     "output_type": "stream",
     "text": [
      "Overriding default configuration file with /opt/lsst/software/stack/stack/miniconda3-py38_4.9.2-7.0.1/Linux64/dustmaps_cachedata/gbb0a0c949e+81bc2a20b4/config/.dustmapsrc\n"
     ]
    }
   ],
   "source": [
    "import numpy as np\n",
    "import pandas as pd\n",
    "from astropy.coordinates import SkyCoord\n",
    "import astropy.units as u\n",
    "import matplotlib.pyplot as plt\n",
    "\n",
    "# Import Rubin Pipeline extinction maps\n",
    "from dustmaps.sfd import SFDQuery\n"
   ]
  },
  {
   "cell_type": "markdown",
   "id": "a7d49355-d744-4e30-9bd2-14ec1c9f6407",
   "metadata": {},
   "source": [
    "### <span style='color:blue'> II. Load  the [Montreal  White Dwarf DataBase](https://www.montrealwhitedwarfdatabase.org/), make object ID's compatible with the Warwick (Fusillo et al.) Catalog and save only DA, DB and DC white dwarfs.</span>"
   ]
  },
  {
   "cell_type": "code",
   "execution_count": 2,
   "id": "ccc3e5a2-567e-4731-a7e6-320978ce6b52",
   "metadata": {
    "execution": {
     "iopub.execute_input": "2023-11-10T19:04:03.126607Z",
     "iopub.status.busy": "2023-11-10T19:04:03.126411Z",
     "iopub.status.idle": "2023-11-10T19:04:03.512418Z",
     "shell.execute_reply": "2023-11-10T19:04:03.511800Z",
     "shell.execute_reply.started": "2023-11-10T19:04:03.126591Z"
    },
    "tags": []
   },
   "outputs": [],
   "source": [
    "# Load the (slightly filtered) Montreal White Dwarf Database\n",
    "df_MontWD = pd.read_csv('MWDD-export.csv', low_memory=False)\n",
    "\n",
    "# Get rid of some spaces that make it hard to read\n",
    "df_MontWD.replace('', np.nan, inplace=True)\n",
    "df_MontWD.replace('      ', np.nan, inplace=True)\n",
    "\n",
    "# Get rid of the \"GaiaEDR3\" or \"GaiaDR2\" titles to turn df_MontWD['name'] \n",
    "# into a df_MontWD['source_id_2'] that's compatible with the Warwick data.\n",
    "# Convert all the Gaia Source ID's to strings for compatibility.\n",
    "\n",
    "GaiaEDR3 = []\n",
    "for i in range(len(df_MontWD)):\n",
    "    if df_MontWD['name'][i].startswith('Gaia'):\n",
    "        GaiaEDR3.append(int(df_MontWD['name'][i][9:]))\n",
    "    else:\n",
    "        GaiaEDR3.append('NaN')    \n",
    "\n",
    "source_id_2 = []\n",
    "for i in range(len(df_MontWD)):\n",
    "    source_id_2.append(str(GaiaEDR3[i]))\n",
    "df_MontWD['source_id_2'] = source_id_2\n",
    "\n",
    "\n",
    "# Limit the database to DA, DB and DC WD's\n",
    "df_MontWD = df_MontWD[(df_MontWD['spectype'] == 'DA') | (df_MontWD['spectype'] == 'DB') | \n",
    "                     (df_MontWD['spectype'] == 'DC') ]\n",
    "\n",
    "df_MontWD = df_MontWD.drop(columns=['wdid', 'name', 'wdname', 'icrsra', 'icrsdec', 'teff',\n",
    "       'logg', 'parallax', 'Dpc', 'G', 'DG', 'BP', 'RP'], axis=1)\n",
    "\n",
    "df_MontWD = df_MontWD.reset_index()\n"
   ]
  },
  {
   "cell_type": "markdown",
   "id": "4c27d999-77d5-41e4-925c-4d910173f9d9",
   "metadata": {},
   "source": [
    "### <span style='color:blue'> III. The Montreal WD Database for DA, DB and DC WD's only is ready to merge. Load the Warwick ([Fusillo et al. 2021](https://arxiv.org/abs/2106.07669)) Catalog, make object ID column titles compatible with the Montreal Catalog and save only DA, DB and DC white dwarfs."
   ]
  },
  {
   "cell_type": "code",
   "execution_count": 3,
   "id": "15ee83e1-e2fc-4480-91c7-8d7e3c6fc1ff",
   "metadata": {
    "execution": {
     "iopub.execute_input": "2023-11-10T19:04:03.515142Z",
     "iopub.status.busy": "2023-11-10T19:04:03.514868Z",
     "iopub.status.idle": "2023-11-10T19:04:03.644346Z",
     "shell.execute_reply": "2023-11-10T19:04:03.643773Z",
     "shell.execute_reply.started": "2023-11-10T19:04:03.515124Z"
    },
    "tags": []
   },
   "outputs": [
    {
     "data": {
      "text/plain": [
       "Index(['index', 'source_id_2', 'spectype'], dtype='object')"
      ]
     },
     "execution_count": 3,
     "metadata": {},
     "output_type": "execute_result"
    }
   ],
   "source": [
    "df_WDcat = pd.read_csv('gaia-sdss_white_dwarf_catalogue_v2.1.csv')\n",
    "\n",
    "# Rename columns to match Montreal White Dwarf Database columns.\n",
    "df_WDcat = df_WDcat.rename(columns={'white_dwarf_name':'WDJname'}, errors='raise')\n",
    "df_WDcat = df_WDcat.rename(columns={'spectral_class':'spectype'}, errors='raise')\n",
    "\n",
    "# Save only DA, DB and DC white dwarfs.\n",
    "df_WDcat = df_WDcat[(df_WDcat['spectype'] == 'DA') | (df_WDcat['spectype'] == 'DB') | \n",
    "                     (df_WDcat['spectype'] == 'DC') ]\n",
    "\n",
    "df_WDcat = df_WDcat.drop(columns=['WDJname', 'SDSS_name', 'SDSS_ra', 'SDSS_dec', \n",
    "        'S/N', 'umag', 'e_umag', 'gmag', 'e_gmag', 'rmag', 'e_rmag', 'imag', \n",
    "        'e_imag', 'zmag', 'e_zmag', 'Plate', 'mjd', 'fiberID'], axis=1)\n",
    "\n",
    "df_WDcat = df_WDcat.reset_index()\n",
    "df_WDcat.columns"
   ]
  },
  {
   "cell_type": "markdown",
   "id": "4caab8cd-f625-4596-bbaa-20f04939ee95",
   "metadata": {},
   "source": [
    "### <span style='color:blue'> IV. Merge the Gaia ID's and spectral types for the two databases into one table(\"df\").\n"
   ]
  },
  {
   "cell_type": "code",
   "execution_count": 4,
   "id": "10614ff3-12d3-4a02-969e-c9de96be2fd9",
   "metadata": {
    "execution": {
     "iopub.execute_input": "2023-11-10T19:04:03.645594Z",
     "iopub.status.busy": "2023-11-10T19:04:03.645150Z",
     "iopub.status.idle": "2023-11-10T19:04:04.068887Z",
     "shell.execute_reply": "2023-11-10T19:04:04.068307Z",
     "shell.execute_reply.started": "2023-11-10T19:04:03.645572Z"
    },
    "tags": []
   },
   "outputs": [],
   "source": [
    "# Collect the Gaia ID's and spectral types for both WD databases into one list\n",
    "# and open up a new DataFrame.\n",
    "source_id_2 = []\n",
    "spectype = []\n",
    "for i in range(len(df_MontWD)):\n",
    "    source_id_2.append(str(df_MontWD['source_id_2'][i]))\n",
    "    spectype.append(df_MontWD['spectype'][i])\n",
    "\n",
    "for i in range(len(df_WDcat)):\n",
    "    source_id_2.append(str(df_WDcat['source_id_2'][i]))\n",
    "    spectype.append(df_WDcat['spectype'][i])\n",
    "\n",
    "# Make a new DataFrame with the combined WD catalogs and an ID column that matches\n",
    "# the name of the Gaia catalog's column:    \n",
    "df = pd.DataFrame()\n",
    "df['GaiaEDR3'] = source_id_2\n",
    "df['spectype'] = spectype\n",
    "\n",
    "df.drop_duplicates('GaiaEDR3')\n",
    "\n",
    "del df_MontWD, df_WDcat"
   ]
  },
  {
   "cell_type": "markdown",
   "id": "9d250707-79a0-4a8f-8aab-9bead0913240",
   "metadata": {
    "execution": {
     "iopub.execute_input": "2023-06-01T17:58:48.448544Z",
     "iopub.status.busy": "2023-06-01T17:58:48.447605Z",
     "iopub.status.idle": "2023-06-01T17:58:48.500225Z",
     "shell.execute_reply": "2023-06-01T17:58:48.499476Z",
     "shell.execute_reply.started": "2023-06-01T17:58:48.448514Z"
    },
    "tags": []
   },
   "source": [
    "### <span style='color:blue'> V. Load the Gaia ([Bailer-Jones et al 2021](https://arxiv.org/pdf/2012.05220.pdf)) database, modify the object ID's for compatibility and merge it with the spectypes, based on the object ID. From [VizieR](https://vizier.cds.unistra.fr/viz-bin/VizieR-3?-source=J/MNRAS/508/3877/maincat), get Gaia data with geometric and photogeometric distances. </span>"
   ]
  },
  {
   "cell_type": "code",
   "execution_count": 5,
   "id": "b47fddb8-8691-4789-8fe5-d12dde2f9c8b",
   "metadata": {
    "execution": {
     "iopub.execute_input": "2023-11-10T19:04:04.069831Z",
     "iopub.status.busy": "2023-11-10T19:04:04.069636Z",
     "iopub.status.idle": "2023-11-10T19:04:04.073164Z",
     "shell.execute_reply": "2023-11-10T19:04:04.072654Z",
     "shell.execute_reply.started": "2023-11-10T19:04:04.069815Z"
    },
    "tags": []
   },
   "outputs": [],
   "source": [
    "# An object to convert a votable file to a Pandas table\n",
    "from astropy.io.votable import parse\n",
    "\n",
    "def votable_to_pandas(votable_file):\n",
    "    votable = parse(votable_file)\n",
    "    table = votable.get_first_table().to_table(use_names_over_ids=True)\n",
    "    return table.to_pandas()"
   ]
  },
  {
   "cell_type": "code",
   "execution_count": 6,
   "id": "3c4cc445-806f-40a4-ad6b-c0fa0faf1676",
   "metadata": {
    "execution": {
     "iopub.execute_input": "2023-11-10T19:04:04.074006Z",
     "iopub.status.busy": "2023-11-10T19:04:04.073826Z",
     "iopub.status.idle": "2023-11-10T19:04:35.264116Z",
     "shell.execute_reply": "2023-11-10T19:04:35.263371Z",
     "shell.execute_reply.started": "2023-11-10T19:04:04.073990Z"
    },
    "tags": []
   },
   "outputs": [],
   "source": [
    "# Download the Gaia data from VizieR as a votable file and make a Pandas table\n",
    "df_Gaia = votable_to_pandas('vizier_votable.vot')\n",
    "\n",
    "# Convert all GAIA ID's to strings for compatibility\n",
    "GaiaEDR3 = []\n",
    "for i in range(len(df_Gaia)):\n",
    "    GaiaEDR3.append(str(df_Gaia['GaiaEDR3'][i]))\n",
    "\n",
    "df_Gaia['GaiaEDR3'] = GaiaEDR3\n",
    "df_Gaia = df_Gaia.reset_index()\n",
    "\n",
    "df_merge = pd.merge(df_Gaia, df, on='GaiaEDR3')"
   ]
  },
  {
   "cell_type": "markdown",
   "id": "ff571655-c73a-4c77-a0b1-8e0227862499",
   "metadata": {},
   "source": [
    "### <span style='color:blue'> VI. Merging is complete. Drop any duplicate rows, filter magnitudes (generally 5-22, but r is 15-19) and add galactic coordinates. Keep b > $15^{o}$ to stay out of the bulge."
   ]
  },
  {
   "cell_type": "code",
   "execution_count": 7,
   "id": "da664cdc-5397-4dde-b5b3-795da987dfad",
   "metadata": {
    "execution": {
     "iopub.execute_input": "2023-11-10T19:04:35.265234Z",
     "iopub.status.busy": "2023-11-10T19:04:35.265033Z",
     "iopub.status.idle": "2023-11-10T19:04:35.268724Z",
     "shell.execute_reply": "2023-11-10T19:04:35.268115Z",
     "shell.execute_reply.started": "2023-11-10T19:04:35.265216Z"
    },
    "tags": []
   },
   "outputs": [],
   "source": [
    "# define a function to calculate galactic coordinates\n",
    "def get_galactic_coord(row):\n",
    "    c = SkyCoord(ra=row['RA_ICRS']*u.degree, dec=row['DE_ICRS']*u.degree, frame='icrs')\n",
    "    row['l'] = c.galactic.l.degree\n",
    "    row['b'] = c.galactic.b.degree\n",
    "    return row\n",
    "\n"
   ]
  },
  {
   "cell_type": "code",
   "execution_count": 8,
   "id": "bae9df99-9bb3-4a27-9774-6f475452f854",
   "metadata": {
    "execution": {
     "iopub.execute_input": "2023-11-10T19:04:35.269608Z",
     "iopub.status.busy": "2023-11-10T19:04:35.269419Z",
     "iopub.status.idle": "2023-11-10T19:05:22.513971Z",
     "shell.execute_reply": "2023-11-10T19:05:22.513346Z",
     "shell.execute_reply.started": "2023-11-10T19:04:35.269592Z"
    },
    "tags": []
   },
   "outputs": [],
   "source": [
    "#Drop any duplicate rows\n",
    "df_merge = df_merge.drop_duplicates('GaiaEDR3')\n",
    "\n",
    "# Eliminate non-positive magnitudes and high SNR magnitudes.\n",
    "df_merge = df_merge[ ( df_merge['umag'] > 5.) & (df_merge['umag'] < 22.)\n",
    "                 & (df_merge['gmag'] > 5.) & (df_merge['gmag'] < 22.)\n",
    "                 & (df_merge['rmag'] > 15.) & (df_merge['rmag'] < 19.)\n",
    "                 & (df_merge['imag'] > 5.) & (df_merge['imag'] < 22.)\n",
    "                 & (df_merge['zmag'] > 5.) & (df_merge['zmag'] < 22.)]\n",
    "\n",
    "\n",
    "# apply the galactic coordinate calculation to each row using the apply method\n",
    "# and limit WD's to b > 15 degrees to stay out of the bulge.\n",
    "df_merge = df_merge.apply(get_galactic_coord, axis=1)\n",
    "df_merge = df_merge[(np.abs(df_merge['b']) > 15.)]\n",
    "df_merge = df_merge[df_merge['Pwd'] >= 0.9]\n",
    "df_merge = df_merge.drop(columns=['WDJname', '_RA.icrs', '_DE.icrs'], axis=1)\n",
    "df_merge = df_merge.dropna()\n",
    "df_merge = df_merge.reset_index()"
   ]
  },
  {
   "cell_type": "markdown",
   "id": "52dc1111-9c82-4b10-9d12-c67ef1b0bbf1",
   "metadata": {},
   "source": [
    "### <span style='color:blue'> VII. Check the data columns and create an output file ('MontWarWDs.csv'). We'll use this file to calculate absolute magnitudes and create white dwarf color-Magnitude models in \"model_WDs.ipynb\"."
   ]
  },
  {
   "cell_type": "code",
   "execution_count": 10,
   "id": "2fde0526-627d-4a8c-994d-506cedabd90d",
   "metadata": {
    "execution": {
     "iopub.execute_input": "2023-11-10T19:05:22.795103Z",
     "iopub.status.busy": "2023-11-10T19:05:22.794914Z",
     "iopub.status.idle": "2023-11-10T19:05:22.800721Z",
     "shell.execute_reply": "2023-11-10T19:05:22.800186Z",
     "shell.execute_reply.started": "2023-11-10T19:05:22.795087Z"
    },
    "tags": []
   },
   "outputs": [
    {
     "name": "stdout",
     "output_type": "stream",
     "text": [
      "Number of Rows in Table: 7077\n",
      "Spectral Types:  ['DA' 'DC' 'DB']\n",
      "\n",
      "WD Type    #\n",
      "spectype\n",
      "DA    5870\n",
      "DB     702\n",
      "DC     505\n",
      "Name: count, dtype: int64\n"
     ]
    }
   ],
   "source": [
    "print('Number of Rows in Table: %d' %len(df_merge))\n",
    "print('Spectral Types: ', df_merge.spectype.unique())\n",
    "print()\n",
    "print('WD Type    #')\n",
    "print(df_merge.spectype.value_counts())"
   ]
  },
  {
   "cell_type": "code",
   "execution_count": 11,
   "id": "01feaf76-ff9b-477a-8507-c92e01a14eee",
   "metadata": {
    "execution": {
     "iopub.execute_input": "2023-11-10T19:05:22.801839Z",
     "iopub.status.busy": "2023-11-10T19:05:22.801406Z",
     "iopub.status.idle": "2023-11-10T19:05:22.817035Z",
     "shell.execute_reply": "2023-11-10T19:05:22.816371Z",
     "shell.execute_reply.started": "2023-11-10T19:05:22.801821Z"
    },
    "tags": []
   },
   "outputs": [
    {
     "data": {
      "text/plain": [
       "Index(['level_0', 'index', 'GaiaEDR3', 'RA_ICRS', 'DE_ICRS', 'Plx', 'Pwd',\n",
       "       'PM', 'pmRA', 'pmDE', 'Gmag', 'BPmag', 'RPmag', 'TeffH', 'e_TeffH',\n",
       "       'loggH', 'e_loggH', 'MassH', 'TeffHe', 'e_TeffHe', 'loggHe', 'e_loggHe',\n",
       "       'MassHe', 'Teffmix', 'e_Teffmix', 'loggmix', 'e_loggmix', 'rgeo',\n",
       "       'b_rgeo', 'B_rgeo', 'rpgeo', 'b_rpgeo', 'B_rpgeo', 'SDSS12', 'umag',\n",
       "       'gmag', 'rmag', 'imag', 'zmag', 'recno', 'spectype', 'l', 'b'],\n",
       "      dtype='object')"
      ]
     },
     "execution_count": 11,
     "metadata": {},
     "output_type": "execute_result"
    }
   ],
   "source": [
    "df_merge.columns"
   ]
  },
  {
   "cell_type": "code",
   "execution_count": 12,
   "id": "7936797b-59fe-471c-a16b-51de050267a8",
   "metadata": {
    "execution": {
     "iopub.execute_input": "2023-11-10T19:05:22.817972Z",
     "iopub.status.busy": "2023-11-10T19:05:22.817730Z",
     "iopub.status.idle": "2023-11-10T19:05:23.105795Z",
     "shell.execute_reply": "2023-11-10T19:05:23.105122Z",
     "shell.execute_reply.started": "2023-11-10T19:05:22.817956Z"
    },
    "tags": []
   },
   "outputs": [],
   "source": [
    "df_merge.to_csv('MontWarWDs.csv')"
   ]
  },
  {
   "cell_type": "code",
   "execution_count": null,
   "id": "7f48339b-1e6b-4696-bf3b-0c386574225f",
   "metadata": {},
   "outputs": [],
   "source": []
  }
 ],
 "metadata": {
  "kernelspec": {
   "display_name": "LSST",
   "language": "python",
   "name": "lsst"
  },
  "language_info": {
   "codemirror_mode": {
    "name": "ipython",
    "version": 3
   },
   "file_extension": ".py",
   "mimetype": "text/x-python",
   "name": "python",
   "nbconvert_exporter": "python",
   "pygments_lexer": "ipython3",
   "version": "3.11.4"
  }
 },
 "nbformat": 4,
 "nbformat_minor": 5
}
